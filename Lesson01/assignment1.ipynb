{
 "cells": [
  {
   "cell_type": "markdown",
   "metadata": {},
   "source": [
    "\n",
    "\n",
    "3. Do think about your own interests very carefully and choose your topic within 3 weeks.\n",
    "\n",
    "4. 【Please send answers to those questions to mqgao@kaikeba.com】\n",
    "   Please answer some questions about our course. We do appreciate your help.\n",
    "   4.1 What do you want to get in this course?\n",
    "   4.2 What problems do you want to solve?\n",
    "   4.3 What advantages do you have to accomplish your goal?\n",
    "   4.4 What disadvantages you need to overcome to accomplish your goal?\n",
    "   4.5 How will you plan to study in this course?\n",
    "   "
   ]
  },
  {
   "cell_type": "code",
   "execution_count": 1,
   "metadata": {},
   "outputs": [],
   "source": [
    "import cv2\n",
    "import random\n",
    "import numpy as np\n",
    "from matplotlib import pyplot as plt"
   ]
  },
  {
   "cell_type": "markdown",
   "metadata": {},
   "source": [
    "#### 1. Recode all examples"
   ]
  },
  {
   "cell_type": "markdown",
   "metadata": {},
   "source": [
    "单通道灰度图"
   ]
  },
  {
   "cell_type": "code",
   "execution_count": 2,
   "metadata": {},
   "outputs": [],
   "source": [
    "img_gray = cv2.imread('0.jpg', 0)\n",
    "cv2.imshow(\"jrs\",img_gray)\n",
    "\n",
    "key = cv2.waitKey()\n",
    "if key == 27:\n",
    "    cv2.destroyAllWindows()"
   ]
  },
  {
   "cell_type": "code",
   "execution_count": 3,
   "metadata": {},
   "outputs": [
    {
     "name": "stdout",
     "output_type": "stream",
     "text": [
      "[[20 21 23 ... 21 21 21]\n",
      " [ 0  0  0 ...  2  2  2]\n",
      " [ 2  1  1 ...  2  2  2]\n",
      " ...\n",
      " [ 3 27 42 ... 86 78 70]\n",
      " [ 9 34 41 ... 88 81 74]\n",
      " [22 44 40 ... 89 83 76]]\n"
     ]
    }
   ],
   "source": [
    "# to show gray image to show image matrix\n",
    "print(img_gray)"
   ]
  },
  {
   "cell_type": "code",
   "execution_count": 4,
   "metadata": {},
   "outputs": [
    {
     "name": "stdout",
     "output_type": "stream",
     "text": [
      "uint8\n"
     ]
    }
   ],
   "source": [
    "# to show image data type\n",
    "print(img_gray.dtype)"
   ]
  },
  {
   "cell_type": "code",
   "execution_count": 5,
   "metadata": {},
   "outputs": [
    {
     "name": "stdout",
     "output_type": "stream",
     "text": [
      "(1103, 700)\n"
     ]
    }
   ],
   "source": [
    "# to show gray image shape\n",
    "print(img_gray.shape)  # h, w"
   ]
  },
  {
   "cell_type": "markdown",
   "metadata": {},
   "source": [
    "三通道图"
   ]
  },
  {
   "cell_type": "code",
   "execution_count": 6,
   "metadata": {},
   "outputs": [],
   "source": [
    "img = cv2.imread(\"0.jpg\")\n",
    "cv2.imshow(\"jrs\",img)\n",
    "\n",
    "key = cv2.waitKey()\n",
    "if key == 27:\n",
    "    cv2.destroyAllWindows()"
   ]
  },
  {
   "cell_type": "code",
   "execution_count": 7,
   "metadata": {
    "scrolled": true
   },
   "outputs": [
    {
     "name": "stdout",
     "output_type": "stream",
     "text": [
      "[[[20 20 20]\n",
      "  [21 21 21]\n",
      "  [23 23 23]\n",
      "  ...\n",
      "  [21 21 21]\n",
      "  [21 21 21]\n",
      "  [21 21 21]]\n",
      "\n",
      " [[ 0  0  0]\n",
      "  [ 0  0  0]\n",
      "  [ 0  0  0]\n",
      "  ...\n",
      "  [ 2  2  2]\n",
      "  [ 2  2  2]\n",
      "  [ 2  2  2]]\n",
      "\n",
      " [[ 2  2  2]\n",
      "  [ 1  1  1]\n",
      "  [ 1  1  1]\n",
      "  ...\n",
      "  [ 2  2  2]\n",
      "  [ 2  2  2]\n",
      "  [ 2  2  2]]\n",
      "\n",
      " ...\n",
      "\n",
      " [[ 5  3  2]\n",
      "  [29 27 26]\n",
      "  [44 42 41]\n",
      "  ...\n",
      "  [72 92 80]\n",
      "  [66 84 71]\n",
      "  [58 76 63]]\n",
      "\n",
      " [[13  9  8]\n",
      "  [38 34 33]\n",
      "  [43 41 40]\n",
      "  ...\n",
      "  [74 94 82]\n",
      "  [67 87 75]\n",
      "  [60 80 68]]\n",
      "\n",
      " [[26 22 21]\n",
      "  [48 44 43]\n",
      "  [44 40 39]\n",
      "  ...\n",
      "  [75 94 85]\n",
      "  [69 88 79]\n",
      "  [62 81 72]]]\n"
     ]
    }
   ],
   "source": [
    "print(img)"
   ]
  },
  {
   "cell_type": "code",
   "execution_count": 9,
   "metadata": {
    "scrolled": true
   },
   "outputs": [
    {
     "name": "stdout",
     "output_type": "stream",
     "text": [
      "(1103, 700, 3)\n"
     ]
    }
   ],
   "source": [
    "print(img.shape)"
   ]
  },
  {
   "cell_type": "markdown",
   "metadata": {},
   "source": [
    "图像裁剪"
   ]
  },
  {
   "cell_type": "code",
   "execution_count": 8,
   "metadata": {},
   "outputs": [],
   "source": [
    "img_crop = img[0:100,0:200]\n",
    "cv2.imshow(\"jrs_crop\", img_crop)\n",
    "\n",
    "key = cv2.waitKey()\n",
    "if key == 27:\n",
    "    cv2.destroyAllWindows()"
   ]
  },
  {
   "cell_type": "markdown",
   "metadata": {},
   "source": [
    "图像通道分离"
   ]
  },
  {
   "cell_type": "code",
   "execution_count": 12,
   "metadata": {},
   "outputs": [],
   "source": [
    "B, G, R = cv2.split(img)\n",
    "\n",
    "cv2.imshow(\"B\",B)\n",
    "cv2.imshow(\"G\",G)\n",
    "cv2.imshow(\"R\",R)\n",
    "\n",
    "key = cv2.waitKey()\n",
    "if key==27:\n",
    "    cv2.destroyAllWindows()"
   ]
  },
  {
   "cell_type": "markdown",
   "metadata": {},
   "source": [
    "改变颜色"
   ]
  },
  {
   "cell_type": "code",
   "execution_count": 11,
   "metadata": {},
   "outputs": [],
   "source": [
    "def random_light_color(img):\n",
    "    # brightness\n",
    "    B, G, R = cv2.split(img)\n",
    "\n",
    "    for i in (B, G, R):\n",
    "        rand = random.randint(-50, 50)\n",
    "        if rand == 0:\n",
    "            pass\n",
    "        elif rand > 0:\n",
    "            lim = 255 - rand\n",
    "            i[i > lim] = 255\n",
    "            i[i <= lim] = (rand + i[i <= lim]).astype(img.dtype)\n",
    "        elif rand < 0:\n",
    "            lim = 0 - rand\n",
    "            i[i < lim] = 0\n",
    "            i[i >= lim] = (rand + i[i >= lim]).astype(img.dtype)\n",
    "\n",
    "    img_merge = cv2.merge((B, G, R))\n",
    "    return img_merge"
   ]
  },
  {
   "cell_type": "code",
   "execution_count": 12,
   "metadata": {},
   "outputs": [],
   "source": [
    "img_random_color = random_light_color(img)\n",
    "cv2.imshow('img_random_color', img_random_color)\n",
    "\n",
    "key = cv2.waitKey()\n",
    "if key == 27:\n",
    "    cv2.destroyAllWindows()"
   ]
  },
  {
   "cell_type": "markdown",
   "metadata": {},
   "source": [
    "伽马修正"
   ]
  },
  {
   "cell_type": "code",
   "execution_count": null,
   "metadata": {},
   "outputs": [],
   "source": []
  },
  {
   "cell_type": "markdown",
   "metadata": {},
   "source": [
    "#### 2. Please combine image crop, color shift, rotation and perspective transform together to complete a data augmentation script.\n",
    "\n",
    "   Your code need to be completed in Python/C++ in .py or .cpp file with comments and readme file to indicate how to use."
   ]
  },
  {
   "cell_type": "code",
   "execution_count": null,
   "metadata": {},
   "outputs": [],
   "source": []
  }
 ],
 "metadata": {
  "kernelspec": {
   "display_name": "Python 3",
   "language": "python",
   "name": "python3"
  },
  "language_info": {
   "codemirror_mode": {
    "name": "ipython",
    "version": 3
   },
   "file_extension": ".py",
   "mimetype": "text/x-python",
   "name": "python",
   "nbconvert_exporter": "python",
   "pygments_lexer": "ipython3",
   "version": "3.6.8"
  }
 },
 "nbformat": 4,
 "nbformat_minor": 2
}
