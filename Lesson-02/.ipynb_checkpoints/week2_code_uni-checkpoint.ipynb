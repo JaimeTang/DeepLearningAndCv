{
 "cells": [
  {
   "cell_type": "markdown",
   "metadata": {},
   "source": [
    "# week2_code_uni"
   ]
  },
  {
   "cell_type": "code",
   "execution_count": 5,
   "metadata": {},
   "outputs": [],
   "source": [
    "import cv2\n",
    "import numpy as np"
   ]
  },
  {
   "cell_type": "code",
   "execution_count": 3,
   "metadata": {},
   "outputs": [],
   "source": [
    "img = cv2.imread('img\\img.jpg')\n",
    "cv2.imshow('img',img)\n",
    "key = cv2.waitKey()\n",
    "if key == 27:\n",
    "    cv2.destroyAllWindows()"
   ]
  },
  {
   "cell_type": "code",
   "execution_count": 7,
   "metadata": {},
   "outputs": [
    {
     "data": {
      "text/plain": [
       "'3.4.2'"
      ]
     },
     "execution_count": 7,
     "metadata": {},
     "output_type": "execute_result"
    }
   ],
   "source": [
    "cv2.__version__"
   ]
  },
  {
   "cell_type": "code",
   "execution_count": 8,
   "metadata": {},
   "outputs": [
    {
     "data": {
      "text/plain": [
       "'1.16.2'"
      ]
     },
     "execution_count": 8,
     "metadata": {},
     "output_type": "execute_result"
    }
   ],
   "source": [
    "np.__version__"
   ]
  },
  {
   "cell_type": "markdown",
   "metadata": {},
   "source": [
    "## 1. Gaussian Kernel"
   ]
  },
  {
   "cell_type": "code",
   "execution_count": 30,
   "metadata": {},
   "outputs": [],
   "source": [
    "# Gaussian Kernel Effect\n",
    "g_img = cv2.GaussianBlur(img,(7,7),5)\n",
    "cv2.imshow('gaussian_blur_lenna', g_img)\n",
    "key = cv2.waitKey()\n",
    "if key == 27:\n",
    "    cv2.destroyAllWindows()"
   ]
  },
  {
   "cell_type": "code",
   "execution_count": 10,
   "metadata": {},
   "outputs": [],
   "source": [
    "# 图像变更模糊，因为范围更大，平均效果更明显\n",
    "g_img = cv2.GaussianBlur(img,(17,17),5)\n",
    "cv2.imshow('gaussian_blur_lenna', g_img)\n",
    "key = cv2.waitKey()\n",
    "if key == 27:\n",
    "    cv2.destroyAllWindows()"
   ]
  },
  {
   "cell_type": "code",
   "execution_count": 11,
   "metadata": {},
   "outputs": [],
   "source": [
    "# 图像更清晰，因为方差更小，高斯图像更尖锐，中心点起的作用更大\n",
    "g_img = cv2.GaussianBlur(img,(7,7),1)\n",
    "cv2.imshow('gaussian_blur_lenna', g_img)\n",
    "key = cv2.waitKey()\n",
    "if key == 27:\n",
    "    cv2.destroyAllWindows()"
   ]
  },
  {
   "cell_type": "code",
   "execution_count": 5,
   "metadata": {},
   "outputs": [
    {
     "name": "stdout",
     "output_type": "stream",
     "text": [
      "[[0.12895603]\n",
      " [0.14251846]\n",
      " [0.15133131]\n",
      " [0.1543884 ]\n",
      " [0.15133131]\n",
      " [0.14251846]\n",
      " [0.12895603]]\n"
     ]
    }
   ],
   "source": [
    "# 来看看高斯核\n",
    "kernel = cv2.getGaussianKernel(7, 5)\n",
    "print(kernel)"
   ]
  },
  {
   "cell_type": "code",
   "execution_count": 6,
   "metadata": {},
   "outputs": [],
   "source": [
    "# 为啥一维，因为一维运算快\n",
    "# 理论解释\n",
    "# 用显式地代码看隐式地高斯和显示地分步高斯地效果\n",
    "g1_img = cv2.GaussianBlur(img,(7,7),5)\n",
    "g2_img = cv2.sepFilter2D(img, -1, kernel, kernel) # ori, depth, kernelX, kernelY\n",
    "cv2.imshow('g1_blur_lenna', g1_img)\n",
    "cv2.imshow('g2_blur_lenna', g2_img)\n",
    "key = cv2.waitKey()\n",
    "if key == 27:\n",
    "    cv2.destroyAllWindows()"
   ]
  },
  {
   "cell_type": "markdown",
   "metadata": {},
   "source": [
    "## 2. Other Applications"
   ]
  },
  {
   "cell_type": "code",
   "execution_count": 7,
   "metadata": {},
   "outputs": [],
   "source": [
    "kernel_lap = np.array([[0, 1, 0], [1, -4, 1], [0, 1, 0]], np.float32)\n",
    "lap_img = cv2.filter2D(img, -1, kernel=kernel_lap)\n",
    "cv2.imshow('lap_lenna', lap_img)\n",
    "key = cv2.waitKey()\n",
    "if key == 27:\n",
    "    cv2.destroyAllWindows()"
   ]
  },
  {
   "cell_type": "code",
   "execution_count": 15,
   "metadata": {},
   "outputs": [],
   "source": [
    "# 应用： 图像锐化 = edge+ori\n",
    "# app: sharpen\n",
    "# 图像+edge=更锐利地图像，因为突出边缘\n",
    "kernel_sharp = np.array([[0, 1, 0], [1, -3, 1], [0, 1, 0]], np.float32) \n",
    "lap_img = cv2.filter2D(img, -1, kernel=kernel_sharp)\n",
    "cv2.imshow('sharp_lenna', lap_img)\n",
    "key = cv2.waitKey()\n",
    "if key == 27:\n",
    "    cv2.destroyAllWindows()"
   ]
  },
  {
   "cell_type": "code",
   "execution_count": 18,
   "metadata": {},
   "outputs": [],
   "source": [
    "# 这样不对，因为，周围有4个1，中间是-3，虽然有边缘效果，但是周围得1会使得原kernel有滤波效果，使图像模糊；\n",
    "# 解决：所以取kernel_lap得相反数，再加上原图像，这样突出了中心像素，效果类似于小方差的高斯，所以\n",
    "#      可以既有边缘效果，又保留图像清晰度\n",
    "kernel_sharp = np.array([[0, -1, 0], [-1, 5, -1], [0, -1, 0]], np.float32) \n",
    "lap_img = cv2.filter2D(img, -1, kernel=kernel_sharp)\n",
    "cv2.imshow('sharp_lenna', lap_img)\n",
    "key = cv2.waitKey()\n",
    "if key == 27:\n",
    "    cv2.destroyAllWindows()"
   ]
  },
  {
   "cell_type": "code",
   "execution_count": 17,
   "metadata": {},
   "outputs": [],
   "source": [
    "# 更“凶猛”的边缘效果\n",
    "# 不仅考虑x-y方向上的梯度，同时考虑了对角线方向上的梯度\n",
    "kernel_sharp = np.array([[1, 1, 1], [1, -8, 1], [1, 1, 1]], np.float32) \n",
    "lap_img = cv2.filter2D(img, -1, kernel=kernel_sharp)\n",
    "cv2.imshow('sharp_lenna', lap_img)\n",
    "key = cv2.waitKey()\n",
    "if key == 27:\n",
    "    cv2.destroyAllWindows()"
   ]
  },
  {
   "cell_type": "markdown",
   "metadata": {},
   "source": [
    "## 3. Edge"
   ]
  },
  {
   "cell_type": "code",
   "execution_count": 19,
   "metadata": {},
   "outputs": [],
   "source": [
    "# x轴\n",
    "edgex = np.array([[-1, -2, -1], [0, 0, 0], [1, 2, 1]], np.float32)\n",
    "sharp_img = cv2.filter2D(img, -1, kernel=edgex)\n",
    "cv2.imshow('edgex_lenna', sharp_img)\n",
    "key = cv2.waitKey()\n",
    "if key == 27:\n",
    "    cv2.destroyAllWindows()"
   ]
  },
  {
   "cell_type": "code",
   "execution_count": 20,
   "metadata": {},
   "outputs": [],
   "source": [
    "# y轴\n",
    "edgey = np.array([[-1, 0, -1], [-2, 0, 2], [-1, 0, 1]], np.float32)\n",
    "sharpy_img = cv2.filter2D(img, -1, kernel=edgey)\n",
    "cv2.imshow('edgex_lenna', sharp_img)\n",
    "cv2.imshow('edgey_lenna', sharpy_img)\n",
    "key = cv2.waitKey()\n",
    "if key == 27:\n",
    "    cv2.destroyAllWindows()"
   ]
  },
  {
   "cell_type": "markdown",
   "metadata": {},
   "source": [
    "## 4. 角点"
   ]
  },
  {
   "cell_type": "code",
   "execution_count": 8,
   "metadata": {},
   "outputs": [
    {
     "name": "stdout",
     "output_type": "stream",
     "text": [
      "[[202. 202. 202. ... 199. 199. 199.]\n",
      " [202. 202. 202. ... 199. 199. 199.]\n",
      " [202. 202. 202. ... 199. 199. 199.]\n",
      " ...\n",
      " [199. 199. 199. ... 205. 206. 207.]\n",
      " [199. 199. 199. ... 207. 207. 206.]\n",
      " [199. 199. 199. ... 211. 207. 204.]]\n"
     ]
    }
   ],
   "source": [
    "img = cv2.imread('img/img.jpg')\n",
    "img = cv2.resize(img, (640, 480))\n",
    "img_gray = np.float32(cv2.cvtColor(img, cv2.COLOR_BGR2GRAY))\n",
    "print(img_gray)"
   ]
  },
  {
   "cell_type": "code",
   "execution_count": 10,
   "metadata": {},
   "outputs": [],
   "source": [
    "img_harris = cv2.cornerHarris(img_gray, 2, 3, 0.05)    # 2： blockSize: window size; 3: Sobel kernel size\n",
    "cv2.imshow('img_harris ', img_harris)\n",
    "key = cv2.waitKey()\n",
    "if key == 27:\n",
    "    cv2.destroyAllWindows()\n",
    "# 没法看原因：1. float类型； 2. img_harris本质上是每个pixel对于Harris函数的响应值\n",
    "# 没有看的价值"
   ]
  },
  {
   "cell_type": "code",
   "execution_count": 25,
   "metadata": {},
   "outputs": [
    {
     "name": "stdout",
     "output_type": "stream",
     "text": [
      "[[  0.          0.          0.        ...   0.          0.\n",
      "    0.       ]\n",
      " [  0.          0.          0.        ...   0.          0.\n",
      "    0.       ]\n",
      " [  0.          0.          0.        ...   0.          0.\n",
      "    0.       ]\n",
      " ...\n",
      " [  0.          0.          0.        ...  62.960155   27.294872\n",
      "    5.89375  ]\n",
      " [  0.          0.          0.        ... 156.42964    39.88628\n",
      "    0.7433593]\n",
      " [  0.          0.          0.        ... 628.3435     66.82475\n",
      "    1.2925292]]\n"
     ]
    }
   ],
   "source": [
    "print(img_harris)"
   ]
  },
  {
   "cell_type": "code",
   "execution_count": 11,
   "metadata": {},
   "outputs": [],
   "source": [
    "# 为了显示清楚\n",
    "# img_harris = cv2.dilate(img_harris , None)\n",
    "\n",
    "thres = 0.05 * np.max(img_harris)\n",
    "img[img_harris > thres] = [0, 0, 255]\n",
    "cv2.imshow('img_harris ', img)\n",
    "key = cv2.waitKey()\n",
    "if key == 27:\n",
    "    cv2.destroyAllWindows()"
   ]
  },
  {
   "cell_type": "markdown",
   "metadata": {},
   "source": [
    "## 5. SIFT"
   ]
  },
  {
   "cell_type": "code",
   "execution_count": 12,
   "metadata": {},
   "outputs": [
    {
     "name": "stdout",
     "output_type": "stream",
     "text": [
      "(353, 128)\n"
     ]
    }
   ],
   "source": [
    "img = cv2.imread('img/img.jpg')\n",
    "# create sift class\n",
    "sift = cv2.xfeatures2d.SIFT_create()\n",
    "# detect SIFT\n",
    "kp = sift.detect(img,None)   # None for mask\n",
    "# compute SIFT descriptor\n",
    "kp,des = sift.compute(img,kp)\n",
    "print(des.shape)\n",
    "img_sift= cv2.drawKeypoints(img,kp,outImage=np.array([]), flags=cv2.DRAW_MATCHES_FLAGS_DRAW_RICH_KEYPOINTS)\n",
    "cv2.imshow('lenna_sift.jpg', img_sift)\n",
    "key = cv2.waitKey()\n",
    "if key == 27:\n",
    "    cv2.destroyAllWindows()"
   ]
  },
  {
   "cell_type": "code",
   "execution_count": null,
   "metadata": {},
   "outputs": [],
   "source": []
  }
 ],
 "metadata": {
  "kernelspec": {
   "display_name": "Python 3",
   "language": "python",
   "name": "python3"
  },
  "language_info": {
   "codemirror_mode": {
    "name": "ipython",
    "version": 3
   },
   "file_extension": ".py",
   "mimetype": "text/x-python",
   "name": "python",
   "nbconvert_exporter": "python",
   "pygments_lexer": "ipython3",
   "version": "3.6.8"
  }
 },
 "nbformat": 4,
 "nbformat_minor": 2
}
